{
  "nbformat": 4,
  "nbformat_minor": 0,
  "metadata": {
    "colab": {
      "name": "Sci-kit learn on wine dataset.ipynb",
      "provenance": [],
      "collapsed_sections": []
    },
    "kernelspec": {
      "name": "python3",
      "display_name": "Python 3"
    }
  },
  "cells": [
    {
      "cell_type": "markdown",
      "metadata": {
        "id": "TzGftCl5BXVS"
      },
      "source": [
        "[Tutorial](https://towardsdatascience.com/a-beginners-guide-to-scikit-learn-14b7e51d71a4)"
      ]
    },
    {
      "cell_type": "code",
      "metadata": {
        "id": "bEHb4fIFBUOB"
      },
      "source": [
        "from sklearn.datasets import load_wine\n",
        "x,y = load_wine(return_X_y=True)"
      ],
      "execution_count": 2,
      "outputs": []
    },
    {
      "cell_type": "markdown",
      "metadata": {
        "id": "Vxz9s4u_Cd-b"
      },
      "source": [
        "Pre-built algorithms in scikit learn are estimators <br>\n",
        "regardless of the model or algorithm you are using, the code structure for model training and prediction is the same. <br>\n",
        "\n"
      ]
    },
    {
      "cell_type": "code",
      "metadata": {
        "id": "ml39yQRrBup7"
      },
      "source": [
        "from sklearn.linear_model import LogisticRegression\n",
        "lr = LogisticRegression() #saving it as an object"
      ],
      "execution_count": 3,
      "outputs": []
    },
    {
      "cell_type": "code",
      "metadata": {
        "id": "Q_1mddTBENt9",
        "outputId": "2c0de30f-c368-4df2-ef7e-8a7a0d7e80c9",
        "colab": {
          "base_uri": "https://localhost:8080/",
          "height": 153
        }
      },
      "source": [
        "from sklearn.model_selection import train_test_split\n",
        "x_train, x_test, y_train, y_test = train_test_split(x,y,random_state=0)\n",
        "\n",
        "model = lr.fit(x_train, y_train)"
      ],
      "execution_count": 5,
      "outputs": [
        {
          "output_type": "stream",
          "text": [
            "/usr/local/lib/python3.6/dist-packages/sklearn/linear_model/_logistic.py:940: ConvergenceWarning: lbfgs failed to converge (status=1):\n",
            "STOP: TOTAL NO. of ITERATIONS REACHED LIMIT.\n",
            "\n",
            "Increase the number of iterations (max_iter) or scale the data as shown in:\n",
            "    https://scikit-learn.org/stable/modules/preprocessing.html\n",
            "Please also refer to the documentation for alternative solver options:\n",
            "    https://scikit-learn.org/stable/modules/linear_model.html#logistic-regression\n",
            "  extra_warning_msg=_LOGISTIC_SOLVER_CONVERGENCE_MSG)\n"
          ],
          "name": "stderr"
        }
      ]
    },
    {
      "cell_type": "code",
      "metadata": {
        "id": "JSxj7YAnEqI5"
      },
      "source": [
        "predictions = model.predict(x_test)"
      ],
      "execution_count": 6,
      "outputs": []
    },
    {
      "cell_type": "code",
      "metadata": {
        "id": "BD3tYZJBE9_J"
      },
      "source": [
        "from sklearn.ensemble import RandomForestClassifier\n",
        "\n",
        "rf = RandomForestClassifier()\n",
        "rf_model = rf.fit(x_train, y_train)\n",
        "\n",
        "rf_predictions = rf_model.predict(x_test)"
      ],
      "execution_count": 7,
      "outputs": []
    },
    {
      "cell_type": "markdown",
      "metadata": {
        "id": "ZIqTwRMNHAfQ"
      },
      "source": [
        "Preprocesing"
      ]
    },
    {
      "cell_type": "code",
      "metadata": {
        "id": "dh9L14XwHDS4"
      },
      "source": [
        "from sklearn.impute import SimpleImputer\n",
        "imputer = SimpleImputer(strategy='mean')\n",
        "x_train_clean = imputer.fit(x_train)"
      ],
      "execution_count": 10,
      "outputs": []
    },
    {
      "cell_type": "markdown",
      "metadata": {
        "id": "kWdMrKQNHjnB"
      },
      "source": [
        "Evaluation"
      ]
    },
    {
      "cell_type": "code",
      "metadata": {
        "id": "mVvcMhvOG0Fw",
        "outputId": "40b7d7dd-f2ab-43f0-bcee-9b44f66dd3b9",
        "colab": {
          "base_uri": "https://localhost:8080/",
          "height": 425
        }
      },
      "source": [
        "from sklearn.metrics import classification_report\n",
        "print('Logistic regression\\n', classification_report(predictions,y_test))\n",
        "print('\\n')\n",
        "print('Random forest\\n',classification_report(rf_predictions,y_test))"
      ],
      "execution_count": 13,
      "outputs": [
        {
          "output_type": "stream",
          "text": [
            "Logistic regression\n",
            "               precision    recall  f1-score   support\n",
            "\n",
            "           0       0.88      1.00      0.93        14\n",
            "           1       0.95      0.91      0.93        22\n",
            "           2       1.00      0.89      0.94         9\n",
            "\n",
            "    accuracy                           0.93        45\n",
            "   macro avg       0.94      0.93      0.93        45\n",
            "weighted avg       0.94      0.93      0.93        45\n",
            "\n",
            "\n",
            "\n",
            "Random forest\n",
            "               precision    recall  f1-score   support\n",
            "\n",
            "           0       1.00      1.00      1.00        16\n",
            "           1       0.95      1.00      0.98        20\n",
            "           2       1.00      0.89      0.94         9\n",
            "\n",
            "    accuracy                           0.98        45\n",
            "   macro avg       0.98      0.96      0.97        45\n",
            "weighted avg       0.98      0.98      0.98        45\n",
            "\n"
          ],
          "name": "stdout"
        }
      ]
    },
    {
      "cell_type": "markdown",
      "metadata": {
        "id": "f7jbQQOnJVHh"
      },
      "source": [
        "Hyperparameter optimization"
      ]
    },
    {
      "cell_type": "code",
      "metadata": {
        "id": "BmW5phHPIuzS",
        "outputId": "692b2f73-90d7-47e3-d1f1-9518dc7458f0",
        "colab": {
          "base_uri": "https://localhost:8080/",
          "height": 51
        }
      },
      "source": [
        "param_grid = {\n",
        "    'n_estimators' : [200,500],\n",
        "    'max_features' : ['auto', 'sqrt', 'log2'],\n",
        "    'max_depth' : [4,5,6,7,8],\n",
        "    'criterion' : ['gini', 'entropy']\n",
        "}\n",
        "\n",
        "from sklearn.model_selection import GridSearchCV\n",
        "CV = GridSearchCV(rf, param_grid, n_jobs = 1)\n",
        "\n",
        "CV.fit(x_train, y_train)\n",
        "print(CV.best_params_)\n",
        "print(CV.best_score_)"
      ],
      "execution_count": 16,
      "outputs": [
        {
          "output_type": "stream",
          "text": [
            "{'criterion': 'gini', 'max_depth': 4, 'max_features': 'auto', 'n_estimators': 200}\n",
            "0.9774928774928775\n"
          ],
          "name": "stdout"
        }
      ]
    },
    {
      "cell_type": "markdown",
      "metadata": {
        "id": "72-YVS7GKlhk"
      },
      "source": [
        "Pipelines <br> This tool enables all preprocessing tasks to be chained together with the classifier step so that simply calling fit() or predict() on a single pipeline object performs all the steps in your workflow."
      ]
    },
    {
      "cell_type": "code",
      "metadata": {
        "id": "DiaKQki6KWE8",
        "outputId": "6ef0fe35-72cb-4012-ef6e-7dc7604649ab",
        "colab": {
          "base_uri": "https://localhost:8080/",
          "height": 34
        }
      },
      "source": [
        "from sklearn.pipeline import Pipeline\n",
        "pipe = Pipeline([('imputer', SimpleImputer()), ('rf', RandomForestClassifier())])\n",
        "model_pipeline = pipe.fit(x_train,y_train)\n",
        "model_pipeline.score(x_test,y_test)"
      ],
      "execution_count": 17,
      "outputs": [
        {
          "output_type": "execute_result",
          "data": {
            "text/plain": [
              "0.9777777777777777"
            ]
          },
          "metadata": {
            "tags": []
          },
          "execution_count": 17
        }
      ]
    },
    {
      "cell_type": "code",
      "metadata": {
        "id": "bJwnfNXfL0Yh",
        "outputId": "622f9286-bd90-4432-9e54-a3016055ed2d",
        "colab": {
          "base_uri": "https://localhost:8080/",
          "height": 170
        }
      },
      "source": [
        "pipe2 = Pipeline([('imputer', SimpleImputer()), ('lr', LogisticRegression())])\n",
        "model_pipe = pipe2.fit(x_train,y_train)\n",
        "model_pipe.score(x_test,y_test)"
      ],
      "execution_count": 19,
      "outputs": [
        {
          "output_type": "stream",
          "text": [
            "/usr/local/lib/python3.6/dist-packages/sklearn/linear_model/_logistic.py:940: ConvergenceWarning: lbfgs failed to converge (status=1):\n",
            "STOP: TOTAL NO. of ITERATIONS REACHED LIMIT.\n",
            "\n",
            "Increase the number of iterations (max_iter) or scale the data as shown in:\n",
            "    https://scikit-learn.org/stable/modules/preprocessing.html\n",
            "Please also refer to the documentation for alternative solver options:\n",
            "    https://scikit-learn.org/stable/modules/linear_model.html#logistic-regression\n",
            "  extra_warning_msg=_LOGISTIC_SOLVER_CONVERGENCE_MSG)\n"
          ],
          "name": "stderr"
        },
        {
          "output_type": "execute_result",
          "data": {
            "text/plain": [
              "0.9333333333333333"
            ]
          },
          "metadata": {
            "tags": []
          },
          "execution_count": 19
        }
      ]
    }
  ]
}