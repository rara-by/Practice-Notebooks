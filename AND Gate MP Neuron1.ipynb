{
 "cells": [
  {
   "cell_type": "markdown",
   "metadata": {},
   "source": [
    "# AND Gate Implementation with a McCulloch Pitts Neuron"
   ]
  },
  {
   "cell_type": "code",
   "execution_count": 29,
   "metadata": {},
   "outputs": [],
   "source": [
    "import numpy as np\n",
    "import matplotlib.pyplot as plt"
   ]
  },
  {
   "cell_type": "code",
   "execution_count": 30,
   "metadata": {},
   "outputs": [
    {
     "name": "stdout",
     "output_type": "stream",
     "text": [
      "[[0 0]\n",
      " [0 1]\n",
      " [1 0]\n",
      " [1 1]]\n"
     ]
    }
   ],
   "source": [
    "x = np.array([[0,0],[0,1],[1,0],[1,1]])\n",
    "print(x)\n",
    "# x.shape"
   ]
  },
  {
   "cell_type": "code",
   "execution_count": 31,
   "metadata": {},
   "outputs": [
    {
     "name": "stdout",
     "output_type": "stream",
     "text": [
      "[[0]\n",
      " [0]\n",
      " [0]\n",
      " [1]]\n"
     ]
    }
   ],
   "source": [
    "y = np.array([[0],[0],[0],[1]])\n",
    "print(y)\n",
    "# y.shape"
   ]
  },
  {
   "cell_type": "code",
   "execution_count": 32,
   "metadata": {},
   "outputs": [
    {
     "name": "stdout",
     "output_type": "stream",
     "text": [
      "[[0.82094362]\n",
      " [0.62826901]]\n",
      "0\n"
     ]
    },
    {
     "data": {
      "text/plain": [
       "(2, 1)"
      ]
     },
     "execution_count": 32,
     "metadata": {},
     "output_type": "execute_result"
    }
   ],
   "source": [
    "w = np.random.uniform(size=(2,1))\n",
    "b = 0\n",
    "\n",
    "print(w)\n",
    "print(b)\n",
    "w.shape"
   ]
  },
  {
   "cell_type": "code",
   "execution_count": 33,
   "metadata": {},
   "outputs": [
    {
     "name": "stdout",
     "output_type": "stream",
     "text": [
      "[[0.        ]\n",
      " [0.62826901]\n",
      " [0.82094362]\n",
      " [1.44921263]]\n"
     ]
    },
    {
     "data": {
      "text/plain": [
       "(4, 1)"
      ]
     },
     "execution_count": 33,
     "metadata": {},
     "output_type": "execute_result"
    }
   ],
   "source": [
    "def v_func(x,w,b):\n",
    "    return np.dot(x,w)+b\n",
    "\n",
    "v = v_func(x,w,b)\n",
    "print(v)\n",
    "v_func(x,w,b).shape"
   ]
  },
  {
   "cell_type": "code",
   "execution_count": 34,
   "metadata": {},
   "outputs": [
    {
     "name": "stdout",
     "output_type": "stream",
     "text": [
      "[[0.5       ]\n",
      " [0.65209686]\n",
      " [0.69443661]\n",
      " [0.80987723]]\n"
     ]
    },
    {
     "data": {
      "text/plain": [
       "[<matplotlib.lines.Line2D at 0x1777e19d668>]"
      ]
     },
     "execution_count": 34,
     "metadata": {},
     "output_type": "execute_result"
    },
    {
     "data": {
      "image/png": "[encoded data removed]",
      "text/plain": [
       "<Figure size 432x288 with 1 Axes>"
      ]
     },
     "metadata": {
      "needs_background": "light"
     },
     "output_type": "display_data"
    }
   ],
   "source": [
    "def y_hat_func(a,v):\n",
    "    return 1/(1+np.exp(-a*v))\n",
    "y_hat = (y_hat_func(1,v))\n",
    "\n",
    "\n",
    "print(y_hat)\n",
    "y_hat.shape\n",
    "plt.plot(v,y_hat)"
   ]
  },
  {
   "cell_type": "code",
   "execution_count": 35,
   "metadata": {},
   "outputs": [
    {
     "data": {
      "text/plain": [
       "(4, 1)"
      ]
     },
     "execution_count": 35,
     "metadata": {},
     "output_type": "execute_result"
    }
   ],
   "source": [
    "def e_func(y,y_hat):\n",
    "    return -(y-y_hat)/4\n",
    "\n",
    "e = e_func(y,y_hat)\n",
    "e.shape"
   ]
  },
  {
   "cell_type": "code",
   "execution_count": 36,
   "metadata": {},
   "outputs": [
    {
     "data": {
      "text/plain": [
       "(4, 1)"
      ]
     },
     "execution_count": 36,
     "metadata": {},
     "output_type": "execute_result"
    }
   ],
   "source": [
    "def fprime_func(a,v):\n",
    "#     return np.dot(np.transpose(a*y_hat),(1-a*y_hat))\n",
    "    return y_hat_func(a,v)*(1-y_hat_func(a,v))\n",
    "fprime = fprime_func(1,v)\n",
    "fprime.shape"
   ]
  },
  {
   "cell_type": "code",
   "execution_count": 37,
   "metadata": {},
   "outputs": [
    {
     "data": {
      "text/plain": [
       "(4, 1)"
      ]
     },
     "execution_count": 37,
     "metadata": {},
     "output_type": "execute_result"
    }
   ],
   "source": [
    "def delta_func(e,fprime):\n",
    "    return e*fprime\n",
    "\n",
    "delta = delta_func(e,fprime)\n",
    "delta.shape"
   ]
  },
  {
   "cell_type": "code",
   "execution_count": 38,
   "metadata": {},
   "outputs": [
    {
     "data": {
      "text/plain": [
       "(2, 1)"
      ]
     },
     "execution_count": 38,
     "metadata": {},
     "output_type": "execute_result"
    }
   ],
   "source": [
    "def del_w_func(eta,delta,x):\n",
    "    return x.T.dot(delta*eta)\n",
    "\n",
    "\n",
    "del_w_func(0.01,delta,x).shape\n"
   ]
  },
  {
   "cell_type": "code",
   "execution_count": 55,
   "metadata": {},
   "outputs": [],
   "source": [
    "epochs = 100000\n",
    "ee = []\n",
    "\n",
    "def train(x,y):\n",
    "    w = np.random.uniform(size=(2,1))\n",
    "    b = 0\n",
    "    \n",
    "    for i in range(epochs):\n",
    "        v=v_func(x,w,b)\n",
    "        y_hat = y_hat_func(1,v)\n",
    "        e = e_func(y,y_hat)\n",
    "        fprime = fprime_func(1,v)\n",
    "        delta = delta_func(e,fprime)\n",
    "        del_w =  del_w_func(0.01,delta,x)\n",
    "        del_b = 0.01*delta\n",
    "        w = w - del_w\n",
    "        b = b - del_b\n",
    "        ee.append(np.sum(e))\n",
    "#         plt.plot(i,e.T,'r-',linewidth='3.0')\n",
    "#         plt.show()\n",
    "#         plt.pause(0.0001)\n",
    "\n",
    "train(x,y)\n"
   ]
  },
  {
   "cell_type": "code",
   "execution_count": 56,
   "metadata": {},
   "outputs": [
    {
     "data": {
      "text/plain": [
       "array([[0.5       ],\n",
       "       [0.65209686],\n",
       "       [0.69443661],\n",
       "       [0.80987723]])"
      ]
     },
     "execution_count": 56,
     "metadata": {},
     "output_type": "execute_result"
    }
   ],
   "source": [
    "y_hat\n"
   ]
  },
  {
   "cell_type": "code",
   "execution_count": 57,
   "metadata": {},
   "outputs": [
    {
     "data": {
      "text/plain": [
       "[<matplotlib.lines.Line2D at 0x177004dce48>]"
      ]
     },
     "execution_count": 57,
     "metadata": {},
     "output_type": "execute_result"
    },
    {
     "data": {
      "image/png": "[encoded data removed]",
      "text/plain": [
       "<Figure size 432x288 with 1 Axes>"
      ]
     },
     "metadata": {
      "needs_background": "light"
     },
     "output_type": "display_data"
    }
   ],
   "source": [
    "plt.plot([i for i in range(epochs)], ee)"
   ]
  },
  {
   "cell_type": "code",
   "execution_count": null,
   "metadata": {},
   "outputs": [],
   "source": []
  }
 ],
 "metadata": {
  "kernelspec": {
   "display_name": "Python 3",
   "language": "python",
   "name": "python3"
  },
  "language_info": {
   "codemirror_mode": {
    "name": "ipython",
    "version": 3
   },
   "file_extension": ".py",
   "mimetype": "text/x-python",
   "name": "python",
   "nbconvert_exporter": "python",
   "pygments_lexer": "ipython3",
   "version": "3.7.3"
  }
 },
 "nbformat": 4,
 "nbformat_minor": 4
}
