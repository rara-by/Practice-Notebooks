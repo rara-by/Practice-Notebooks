{
  "nbformat": 4,
  "nbformat_minor": 0,
  "metadata": {
    "colab": {
      "name": "Understanding Train Test Split.ipynb",
      "provenance": [],
      "authorship_tag": "ABX9TyMpkKL7EiY6wtukfROvVf5g",
      "include_colab_link": true
    },
    "kernelspec": {
      "name": "python3",
      "display_name": "Python 3"
    }
  },
  "cells": [
    {
      "cell_type": "markdown",
      "metadata": {
        "id": "view-in-github",
        "colab_type": "text"
      },
      "source": [
        "<a href=\"https://colab.research.google.com/github/rara-by/Practice-Notebooks/blob/main/Understanding_Train_Test_Split.ipynb\" target=\"_parent\"><img src=\"https://colab.research.google.com/assets/colab-badge.svg\" alt=\"Open In Colab\"/></a>"
      ]
    },
    {
      "cell_type": "code",
      "metadata": {
        "id": "5_Bu8qEdczc2",
        "colab": {
          "base_uri": "https://localhost:8080/",
          "height": 51
        },
        "outputId": "b2fda708-2869-4511-efa8-8ced4cdd481f"
      },
      "source": [
        "X =  list(range(10))\n",
        "print (X)\n",
        "\n",
        "y = [x*x for x in X]\n",
        "print (y)"
      ],
      "execution_count": null,
      "outputs": [
        {
          "output_type": "stream",
          "text": [
            "[0, 1, 2, 3, 4, 5, 6, 7, 8, 9]\n",
            "[0, 1, 4, 9, 16, 25, 36, 49, 64, 81]\n"
          ],
          "name": "stdout"
        }
      ]
    },
    {
      "cell_type": "code",
      "metadata": {
        "id": "iU0GO-Y9c25C",
        "colab": {
          "base_uri": "https://localhost:8080/",
          "height": 85
        },
        "outputId": "6507dd7b-96a8-41d7-f212-bcfec2bee27c"
      },
      "source": [
        "import sklearn.model_selection as model_selection\n",
        "X_train, X_test, y_train, y_test = model_selection.train_test_split(X, y, train_size=0.75,test_size=0.25, random_state=101)\n",
        "print (\"X_train: \", X_train)\n",
        "print (\"y_train: \", y_train)\n",
        "print(\"X_test: \", X_test)\n",
        "print (\"y_test: \", y_test)"
      ],
      "execution_count": null,
      "outputs": [
        {
          "output_type": "stream",
          "text": [
            "X_train:  [4, 9, 3, 5, 7, 6, 1]\n",
            "y_train:  [16, 81, 9, 25, 49, 36, 1]\n",
            "X_test:  [8, 2, 0]\n",
            "y_test:  [64, 4, 0]\n"
          ],
          "name": "stdout"
        }
      ]
    },
    {
      "cell_type": "code",
      "metadata": {
        "id": "d02zNspcc7j4",
        "colab": {
          "base_uri": "https://localhost:8080/",
          "height": 85
        },
        "outputId": "d8c0a2d3-8340-488e-f189-eddb946f4ead"
      },
      "source": [
        "import sklearn.model_selection as model_selection\n",
        "X_train, X_test, y_train, y_test = model_selection.train_test_split(X, y, train_size=0.75,test_size=0.25, random_state=101)\n",
        "print (\"X_train: \", X_train)\n",
        "print (\"y_train: \", y_train)\n",
        "print(\"X_test: \", X_test)\n",
        "print (\"y_test: \", y_test)"
      ],
      "execution_count": null,
      "outputs": [
        {
          "output_type": "stream",
          "text": [
            "X_train:  [4, 9, 3, 5, 7, 6, 1]\n",
            "y_train:  [16, 81, 9, 25, 49, 36, 1]\n",
            "X_test:  [8, 2, 0]\n",
            "y_test:  [64, 4, 0]\n"
          ],
          "name": "stdout"
        }
      ]
    },
    {
      "cell_type": "code",
      "metadata": {
        "id": "MHUqmguldCX1",
        "colab": {
          "base_uri": "https://localhost:8080/",
          "height": 85
        },
        "outputId": "120bdaae-ac25-4b35-fb22-43a866640108"
      },
      "source": [
        "import sklearn.model_selection as model_selection\n",
        "X_train, X_test, y_train, y_test = model_selection.train_test_split(X, y, train_size=0.75,test_size=0.25, random_state=102)\n",
        "print (\"X_train: \", X_train)\n",
        "print (\"y_train: \", y_train)\n",
        "print(\"X_test: \", X_test)\n",
        "print (\"y_test: \", y_test)"
      ],
      "execution_count": null,
      "outputs": [
        {
          "output_type": "stream",
          "text": [
            "X_train:  [8, 5, 7, 2, 6, 3, 0]\n",
            "y_train:  [64, 25, 49, 4, 36, 9, 0]\n",
            "X_test:  [4, 9, 1]\n",
            "y_test:  [16, 81, 1]\n"
          ],
          "name": "stdout"
        }
      ]
    },
    {
      "cell_type": "code",
      "metadata": {
        "id": "4gbSpmwDdR5h",
        "colab": {
          "base_uri": "https://localhost:8080/",
          "height": 85
        },
        "outputId": "e9ca608f-14da-405c-a1ba-bec5c4afa707"
      },
      "source": [
        "X_train, X_test, y_train, y_test = model_selection.train_test_split(X, y, train_size=0.75,test_size=0.25, random_state=13)\n",
        "print (\"X_train: \", X_train)\n",
        "print (\"y_train: \", y_train)\n",
        "print(\"X_test: \", X_test)\n",
        "print (\"y_test: \", y_test)"
      ],
      "execution_count": null,
      "outputs": [
        {
          "output_type": "stream",
          "text": [
            "X_train:  [1, 4, 7, 8, 9, 0, 2]\n",
            "y_train:  [1, 16, 49, 64, 81, 0, 4]\n",
            "X_test:  [3, 5, 6]\n",
            "y_test:  [9, 25, 36]\n"
          ],
          "name": "stdout"
        }
      ]
    },
    {
      "cell_type": "code",
      "metadata": {
        "id": "A5J4bPnBdjo-",
        "colab": {
          "base_uri": "https://localhost:8080/",
          "height": 85
        },
        "outputId": "9e9f7759-39bc-4b9f-8e7d-4a288805d1cc"
      },
      "source": [
        "X_train, X_test, y_train, y_test = model_selection.train_test_split(X, y, train_size=0.75,test_size=0.25) #random_state = None\n",
        "print (\"X_train: \", X_train)\n",
        "print (\"y_train: \", y_train)\n",
        "print(\"X_test: \", X_test)\n",
        "print (\"y_test: \", y_test)"
      ],
      "execution_count": null,
      "outputs": [
        {
          "output_type": "stream",
          "text": [
            "X_train:  [5, 6, 3, 1, 8, 9, 2]\n",
            "y_train:  [25, 36, 9, 1, 64, 81, 4]\n",
            "X_test:  [7, 0, 4]\n",
            "y_test:  [49, 0, 16]\n"
          ],
          "name": "stdout"
        }
      ]
    },
    {
      "cell_type": "code",
      "metadata": {
        "id": "ivUwMBKRdjg5",
        "colab": {
          "base_uri": "https://localhost:8080/",
          "height": 85
        },
        "outputId": "9af2c0a2-a78c-4009-f4f3-53029b2dccdb"
      },
      "source": [
        "X_train, X_test, y_train, y_test = model_selection.train_test_split(X, y, train_size=0.75,test_size=0.25) #random_state = None\n",
        "print (\"X_train: \", X_train)\n",
        "print (\"y_train: \", y_train)\n",
        "print(\"X_test: \", X_test)\n",
        "print (\"y_test: \", y_test)"
      ],
      "execution_count": null,
      "outputs": [
        {
          "output_type": "stream",
          "text": [
            "X_train:  [1, 6, 2, 9, 0, 5, 8]\n",
            "y_train:  [1, 36, 4, 81, 0, 25, 64]\n",
            "X_test:  [7, 4, 3]\n",
            "y_test:  [49, 16, 9]\n"
          ],
          "name": "stdout"
        }
      ]
    },
    {
      "cell_type": "markdown",
      "metadata": {
        "id": "SWIrX5fUdcae"
      },
      "source": [
        "For a value in random state the same train-test arrays will be created. Kind of like seed number? \n",
        "For random_state = None a different combination each time"
      ]
    }
  ]
}