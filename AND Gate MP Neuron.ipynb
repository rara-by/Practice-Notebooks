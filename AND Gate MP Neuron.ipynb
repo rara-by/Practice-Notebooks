{
 "cells": [
  {
   "cell_type": "markdown",
   "metadata": {},
   "source": [
    "# AND Gate Implementation with a McCulloch Pitts Neuron"
   ]
  },
  {
   "cell_type": "code",
   "execution_count": 784,
   "metadata": {},
   "outputs": [],
   "source": [
    "import numpy as np\n",
    "import matplotlib.pyplot as plt"
   ]
  },
  {
   "cell_type": "code",
   "execution_count": 785,
   "metadata": {},
   "outputs": [
    {
     "name": "stdout",
     "output_type": "stream",
     "text": [
      "[[-1 -1]\n",
      " [-1  1]\n",
      " [ 1 -1]\n",
      " [ 1  1]]\n"
     ]
    }
   ],
   "source": [
    "x = np.array([[-1,-1],[-1,1],[1,-1],[1,1]])\n",
    "print(x)\n",
    "# x.shape"
   ]
  },
  {
   "cell_type": "code",
   "execution_count": 786,
   "metadata": {},
   "outputs": [
    {
     "name": "stdout",
     "output_type": "stream",
     "text": [
      "[[-1]\n",
      " [-1]\n",
      " [-1]\n",
      " [ 1]]\n"
     ]
    }
   ],
   "source": [
    "y = np.array([[-1],[-1],[-1],[1]])\n",
    "print(y)\n",
    "# y.shape"
   ]
  },
  {
   "cell_type": "code",
   "execution_count": 787,
   "metadata": {},
   "outputs": [
    {
     "name": "stdout",
     "output_type": "stream",
     "text": [
      "[[0.11728831]\n",
      " [0.90705652]]\n"
     ]
    },
    {
     "data": {
      "text/plain": [
       "(2, 1)"
      ]
     },
     "execution_count": 787,
     "metadata": {},
     "output_type": "execute_result"
    }
   ],
   "source": [
    "w = np.random.uniform(size=(2,1))\n",
    "\n",
    "print(w)\n",
    "w.shape"
   ]
  },
  {
   "cell_type": "code",
   "execution_count": 788,
   "metadata": {},
   "outputs": [
    {
     "data": {
      "text/plain": [
       "(4, 1)"
      ]
     },
     "execution_count": 788,
     "metadata": {},
     "output_type": "execute_result"
    }
   ],
   "source": [
    "def v_func(x,w):\n",
    "    return np.dot(x,w)\n",
    "\n",
    "v = v_func(x,w)\n",
    "v_func(x,w).shape"
   ]
  },
  {
   "cell_type": "code",
   "execution_count": 789,
   "metadata": {},
   "outputs": [
    {
     "name": "stdout",
     "output_type": "stream",
     "text": [
      "[[0.26418194]\n",
      " [0.68778156]\n",
      " [0.31221844]\n",
      " [0.73581806]]\n"
     ]
    },
    {
     "data": {
      "text/plain": [
       "[<matplotlib.lines.Line2D at 0x1a8a1241240>]"
      ]
     },
     "execution_count": 789,
     "metadata": {},
     "output_type": "execute_result"
    },
    {
     "data": {
      "image/png": "[encoded data removed]",
      "text/plain": [
       "<Figure size 432x288 with 1 Axes>"
      ]
     },
     "metadata": {
      "needs_background": "light"
     },
     "output_type": "display_data"
    }
   ],
   "source": [
    "def y_hat_func(a,v):\n",
    "    return 1/(1+np.exp(-a*v))\n",
    "y_hat = (y_hat_func(1,v))\n",
    "\n",
    "\n",
    "print(y_hat)\n",
    "y_hat.shape\n",
    "plt.plot(v,y_hat)"
   ]
  },
  {
   "cell_type": "code",
   "execution_count": 790,
   "metadata": {},
   "outputs": [
    {
     "data": {
      "text/plain": [
       "(4, 1)"
      ]
     },
     "execution_count": 790,
     "metadata": {},
     "output_type": "execute_result"
    }
   ],
   "source": [
    "def e_func(y,y_hat):\n",
    "    return np.subtract(y,y_hat)/4\n",
    "\n",
    "e = e_func(y,y_hat)\n",
    "e.shape"
   ]
  },
  {
   "cell_type": "code",
   "execution_count": 791,
   "metadata": {},
   "outputs": [
    {
     "data": {
      "text/plain": [
       "(4, 1)"
      ]
     },
     "execution_count": 791,
     "metadata": {},
     "output_type": "execute_result"
    }
   ],
   "source": [
    "def fprime_func(a,v):\n",
    "#     return np.dot(np.transpose(a*y_hat),(1-a*y_hat))\n",
    "    return y_hat_func(a,v)*(1-y_hat_func(a,v))\n",
    "fprime = fprime_func(1,v)\n",
    "fprime.shape"
   ]
  },
  {
   "cell_type": "code",
   "execution_count": 792,
   "metadata": {},
   "outputs": [
    {
     "data": {
      "text/plain": [
       "(4, 1)"
      ]
     },
     "execution_count": 792,
     "metadata": {},
     "output_type": "execute_result"
    }
   ],
   "source": [
    "def delta_func(e,fprime):\n",
    "    return e*fprime\n",
    "\n",
    "delta = delta_func(e,fprime)\n",
    "delta.shape"
   ]
  },
  {
   "cell_type": "code",
   "execution_count": 793,
   "metadata": {},
   "outputs": [
    {
     "data": {
      "text/plain": [
       "(2, 1)"
      ]
     },
     "execution_count": 793,
     "metadata": {},
     "output_type": "execute_result"
    }
   ],
   "source": [
    "def del_w_func(eta,delta,x):\n",
    "    return x.T.dot(delta*eta)\n",
    "\n",
    "\n",
    "del_w_func(0.5,delta,x).shape\n"
   ]
  },
  {
   "cell_type": "code",
   "execution_count": 804,
   "metadata": {},
   "outputs": [
    {
     "data": {
      "text/plain": [
       "array([[0.26418194],\n",
       "       [0.68778156],\n",
       "       [0.31221844],\n",
       "       [0.73581806]])"
      ]
     },
     "execution_count": 804,
     "metadata": {},
     "output_type": "execute_result"
    }
   ],
   "source": [
    "epochs = 1\n",
    "\n",
    "def train(x,y):\n",
    "    w = np.random.rand(2,1)\n",
    "    \n",
    "    for i in range(epochs):\n",
    "        v=v_func(x,w)\n",
    "        y_hat = y_hat_func(1,v)\n",
    "        e = - e_func(y,y_hat)\n",
    "        fprime = fprime_func(1,v)\n",
    "        delta = delta_func(e,fprime)\n",
    "        del_w =  del_w_func(0.1,delta,x)\n",
    "        w = np.add(w,del_w)\n",
    "       \n",
    "#         ee.append(e)\n",
    "#         plt.plot(i,e.T,'r-',linewidth='3.0')\n",
    "#         plt.show()\n",
    "#         plt.pause(0.0001)\n",
    "\n",
    "train(x,y)\n",
    "\n",
    "y_hat"
   ]
  },
  {
   "cell_type": "code",
   "execution_count": null,
   "metadata": {},
   "outputs": [],
   "source": []
  },
  {
   "cell_type": "code",
   "execution_count": null,
   "metadata": {},
   "outputs": [],
   "source": []
  }
 ],
 "metadata": {
  "kernelspec": {
   "display_name": "Python 3",
   "language": "python",
   "name": "python3"
  },
  "language_info": {
   "codemirror_mode": {
    "name": "ipython",
    "version": 3
   },
   "file_extension": ".py",
   "mimetype": "text/x-python",
   "name": "python",
   "nbconvert_exporter": "python",
   "pygments_lexer": "ipython3",
   "version": "3.6.10"
  }
 },
 "nbformat": 4,
 "nbformat_minor": 4
}
